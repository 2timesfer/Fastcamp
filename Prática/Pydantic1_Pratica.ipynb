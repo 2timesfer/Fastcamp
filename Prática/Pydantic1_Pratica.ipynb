{
 "cells": [
  {
   "cell_type": "markdown",
   "metadata": {},
   "source": [
    "### 3 - Why you should use Pydantic - Prática\n",
    "\n",
    "Fernanda de Castro Fernandes\n",
    "\n",
    "\n",
    "A aula apresenta 4 níveis de validação de usuário, começando do mais básico e simples, até a criação de uma API utilizando o framework FastAPI para realizar tal tarefa."
   ]
  },
  {
   "cell_type": "code",
   "execution_count": 1,
   "metadata": {},
   "outputs": [
    {
     "name": "stdout",
     "output_type": "stream",
     "text": [
      "Defaulting to user installation because normal site-packages is not writeable\n",
      "Requirement already satisfied: pydantic in c:\\users\\ferca\\appdata\\local\\packages\\pythonsoftwarefoundation.python.3.12_qbz5n2kfra8p0\\localcache\\local-packages\\python312\\site-packages (2.10.6)\n",
      "Requirement already satisfied: annotated-types>=0.6.0 in c:\\users\\ferca\\appdata\\local\\packages\\pythonsoftwarefoundation.python.3.12_qbz5n2kfra8p0\\localcache\\local-packages\\python312\\site-packages (from pydantic) (0.7.0)\n",
      "Requirement already satisfied: pydantic-core==2.27.2 in c:\\users\\ferca\\appdata\\local\\packages\\pythonsoftwarefoundation.python.3.12_qbz5n2kfra8p0\\localcache\\local-packages\\python312\\site-packages (from pydantic) (2.27.2)\n",
      "Requirement already satisfied: typing-extensions>=4.12.2 in c:\\users\\ferca\\appdata\\local\\packages\\pythonsoftwarefoundation.python.3.12_qbz5n2kfra8p0\\localcache\\local-packages\\python312\\site-packages (from pydantic) (4.12.2)\n",
      "Note: you may need to restart the kernel to use updated packages.\n",
      "Defaulting to user installation because normal site-packages is not writeable\n",
      "Requirement already satisfied: pydantic[email] in c:\\users\\ferca\\appdata\\local\\packages\\pythonsoftwarefoundation.python.3.12_qbz5n2kfra8p0\\localcache\\local-packages\\python312\\site-packages (2.10.6)\n",
      "Requirement already satisfied: annotated-types>=0.6.0 in c:\\users\\ferca\\appdata\\local\\packages\\pythonsoftwarefoundation.python.3.12_qbz5n2kfra8p0\\localcache\\local-packages\\python312\\site-packages (from pydantic[email]) (0.7.0)\n",
      "Requirement already satisfied: pydantic-core==2.27.2 in c:\\users\\ferca\\appdata\\local\\packages\\pythonsoftwarefoundation.python.3.12_qbz5n2kfra8p0\\localcache\\local-packages\\python312\\site-packages (from pydantic[email]) (2.27.2)\n",
      "Requirement already satisfied: typing-extensions>=4.12.2 in c:\\users\\ferca\\appdata\\local\\packages\\pythonsoftwarefoundation.python.3.12_qbz5n2kfra8p0\\localcache\\local-packages\\python312\\site-packages (from pydantic[email]) (4.12.2)\n",
      "Requirement already satisfied: email-validator>=2.0.0 in c:\\users\\ferca\\appdata\\local\\packages\\pythonsoftwarefoundation.python.3.12_qbz5n2kfra8p0\\localcache\\local-packages\\python312\\site-packages (from pydantic[email]) (2.2.0)\n",
      "Requirement already satisfied: dnspython>=2.0.0 in c:\\users\\ferca\\appdata\\local\\packages\\pythonsoftwarefoundation.python.3.12_qbz5n2kfra8p0\\localcache\\local-packages\\python312\\site-packages (from email-validator>=2.0.0->pydantic[email]) (2.7.0)\n",
      "Requirement already satisfied: idna>=2.0.0 in c:\\users\\ferca\\appdata\\local\\packages\\pythonsoftwarefoundation.python.3.12_qbz5n2kfra8p0\\localcache\\local-packages\\python312\\site-packages (from email-validator>=2.0.0->pydantic[email]) (3.10)\n",
      "Note: you may need to restart the kernel to use updated packages.\n"
     ]
    }
   ],
   "source": [
    "%pip install pydantic\n",
    "%pip install pydantic[email]"
   ]
  },
  {
   "cell_type": "markdown",
   "metadata": {},
   "source": [
    "##### Exemplo 4\n",
    "\n",
    "Agora criamos uma outra API além da utilizada na aula para validação de usuários. Ainda no tema anterior de assistente pessoal, criamos uma API para gerenciar tarefas de usuários. Essa API é capaz de criar, atualizar, deletar e ler tarefas, o chamado CRUD."
   ]
  },
  {
   "cell_type": "code",
   "execution_count": 2,
   "metadata": {},
   "outputs": [
    {
     "name": "stdout",
     "output_type": "stream",
     "text": [
      "Defaulting to user installation because normal site-packages is not writeable\n",
      "Requirement already satisfied: fastapi[standard] in c:\\users\\ferca\\appdata\\local\\packages\\pythonsoftwarefoundation.python.3.12_qbz5n2kfra8p0\\localcache\\local-packages\\python312\\site-packages (0.115.11)\n",
      "Requirement already satisfied: starlette<0.47.0,>=0.40.0 in c:\\users\\ferca\\appdata\\local\\packages\\pythonsoftwarefoundation.python.3.12_qbz5n2kfra8p0\\localcache\\local-packages\\python312\\site-packages (from fastapi[standard]) (0.46.1)\n",
      "Requirement already satisfied: pydantic!=1.8,!=1.8.1,!=2.0.0,!=2.0.1,!=2.1.0,<3.0.0,>=1.7.4 in c:\\users\\ferca\\appdata\\local\\packages\\pythonsoftwarefoundation.python.3.12_qbz5n2kfra8p0\\localcache\\local-packages\\python312\\site-packages (from fastapi[standard]) (2.10.6)\n",
      "Requirement already satisfied: typing-extensions>=4.8.0 in c:\\users\\ferca\\appdata\\local\\packages\\pythonsoftwarefoundation.python.3.12_qbz5n2kfra8p0\\localcache\\local-packages\\python312\\site-packages (from fastapi[standard]) (4.12.2)\n",
      "Requirement already satisfied: fastapi-cli>=0.0.5 in c:\\users\\ferca\\appdata\\local\\packages\\pythonsoftwarefoundation.python.3.12_qbz5n2kfra8p0\\localcache\\local-packages\\python312\\site-packages (from fastapi-cli[standard]>=0.0.5; extra == \"standard\"->fastapi[standard]) (0.0.7)\n",
      "Requirement already satisfied: httpx>=0.23.0 in c:\\users\\ferca\\appdata\\local\\packages\\pythonsoftwarefoundation.python.3.12_qbz5n2kfra8p0\\localcache\\local-packages\\python312\\site-packages (from fastapi[standard]) (0.27.2)\n",
      "Requirement already satisfied: jinja2>=3.1.5 in c:\\users\\ferca\\appdata\\local\\packages\\pythonsoftwarefoundation.python.3.12_qbz5n2kfra8p0\\localcache\\local-packages\\python312\\site-packages (from fastapi[standard]) (3.1.6)\n",
      "Requirement already satisfied: python-multipart>=0.0.18 in c:\\users\\ferca\\appdata\\local\\packages\\pythonsoftwarefoundation.python.3.12_qbz5n2kfra8p0\\localcache\\local-packages\\python312\\site-packages (from fastapi[standard]) (0.0.20)\n",
      "Requirement already satisfied: email-validator>=2.0.0 in c:\\users\\ferca\\appdata\\local\\packages\\pythonsoftwarefoundation.python.3.12_qbz5n2kfra8p0\\localcache\\local-packages\\python312\\site-packages (from fastapi[standard]) (2.2.0)\n",
      "Requirement already satisfied: uvicorn>=0.12.0 in c:\\users\\ferca\\appdata\\local\\packages\\pythonsoftwarefoundation.python.3.12_qbz5n2kfra8p0\\localcache\\local-packages\\python312\\site-packages (from uvicorn[standard]>=0.12.0; extra == \"standard\"->fastapi[standard]) (0.34.0)\n",
      "Requirement already satisfied: dnspython>=2.0.0 in c:\\users\\ferca\\appdata\\local\\packages\\pythonsoftwarefoundation.python.3.12_qbz5n2kfra8p0\\localcache\\local-packages\\python312\\site-packages (from email-validator>=2.0.0->fastapi[standard]) (2.7.0)\n",
      "Requirement already satisfied: idna>=2.0.0 in c:\\users\\ferca\\appdata\\local\\packages\\pythonsoftwarefoundation.python.3.12_qbz5n2kfra8p0\\localcache\\local-packages\\python312\\site-packages (from email-validator>=2.0.0->fastapi[standard]) (3.10)\n",
      "Requirement already satisfied: typer>=0.12.3 in c:\\users\\ferca\\appdata\\local\\packages\\pythonsoftwarefoundation.python.3.12_qbz5n2kfra8p0\\localcache\\local-packages\\python312\\site-packages (from fastapi-cli>=0.0.5->fastapi-cli[standard]>=0.0.5; extra == \"standard\"->fastapi[standard]) (0.15.2)\n",
      "Requirement already satisfied: rich-toolkit>=0.11.1 in c:\\users\\ferca\\appdata\\local\\packages\\pythonsoftwarefoundation.python.3.12_qbz5n2kfra8p0\\localcache\\local-packages\\python312\\site-packages (from fastapi-cli>=0.0.5->fastapi-cli[standard]>=0.0.5; extra == \"standard\"->fastapi[standard]) (0.13.2)\n",
      "Requirement already satisfied: anyio in c:\\users\\ferca\\appdata\\local\\packages\\pythonsoftwarefoundation.python.3.12_qbz5n2kfra8p0\\localcache\\local-packages\\python312\\site-packages (from httpx>=0.23.0->fastapi[standard]) (4.8.0)\n",
      "Requirement already satisfied: certifi in c:\\users\\ferca\\appdata\\local\\packages\\pythonsoftwarefoundation.python.3.12_qbz5n2kfra8p0\\localcache\\local-packages\\python312\\site-packages (from httpx>=0.23.0->fastapi[standard]) (2024.8.30)\n",
      "Requirement already satisfied: httpcore==1.* in c:\\users\\ferca\\appdata\\local\\packages\\pythonsoftwarefoundation.python.3.12_qbz5n2kfra8p0\\localcache\\local-packages\\python312\\site-packages (from httpx>=0.23.0->fastapi[standard]) (1.0.7)\n",
      "Requirement already satisfied: sniffio in c:\\users\\ferca\\appdata\\local\\packages\\pythonsoftwarefoundation.python.3.12_qbz5n2kfra8p0\\localcache\\local-packages\\python312\\site-packages (from httpx>=0.23.0->fastapi[standard]) (1.3.1)\n",
      "Requirement already satisfied: h11<0.15,>=0.13 in c:\\users\\ferca\\appdata\\local\\packages\\pythonsoftwarefoundation.python.3.12_qbz5n2kfra8p0\\localcache\\local-packages\\python312\\site-packages (from httpcore==1.*->httpx>=0.23.0->fastapi[standard]) (0.14.0)\n",
      "Requirement already satisfied: MarkupSafe>=2.0 in c:\\users\\ferca\\appdata\\local\\packages\\pythonsoftwarefoundation.python.3.12_qbz5n2kfra8p0\\localcache\\local-packages\\python312\\site-packages (from jinja2>=3.1.5->fastapi[standard]) (3.0.2)\n",
      "Requirement already satisfied: annotated-types>=0.6.0 in c:\\users\\ferca\\appdata\\local\\packages\\pythonsoftwarefoundation.python.3.12_qbz5n2kfra8p0\\localcache\\local-packages\\python312\\site-packages (from pydantic!=1.8,!=1.8.1,!=2.0.0,!=2.0.1,!=2.1.0,<3.0.0,>=1.7.4->fastapi[standard]) (0.7.0)\n",
      "Requirement already satisfied: pydantic-core==2.27.2 in c:\\users\\ferca\\appdata\\local\\packages\\pythonsoftwarefoundation.python.3.12_qbz5n2kfra8p0\\localcache\\local-packages\\python312\\site-packages (from pydantic!=1.8,!=1.8.1,!=2.0.0,!=2.0.1,!=2.1.0,<3.0.0,>=1.7.4->fastapi[standard]) (2.27.2)\n",
      "Requirement already satisfied: click>=7.0 in c:\\users\\ferca\\appdata\\local\\packages\\pythonsoftwarefoundation.python.3.12_qbz5n2kfra8p0\\localcache\\local-packages\\python312\\site-packages (from uvicorn>=0.12.0->uvicorn[standard]>=0.12.0; extra == \"standard\"->fastapi[standard]) (8.1.8)\n",
      "Requirement already satisfied: colorama>=0.4 in c:\\users\\ferca\\appdata\\local\\packages\\pythonsoftwarefoundation.python.3.12_qbz5n2kfra8p0\\localcache\\local-packages\\python312\\site-packages (from uvicorn[standard]>=0.12.0; extra == \"standard\"->fastapi[standard]) (0.4.6)\n",
      "Requirement already satisfied: httptools>=0.6.3 in c:\\users\\ferca\\appdata\\local\\packages\\pythonsoftwarefoundation.python.3.12_qbz5n2kfra8p0\\localcache\\local-packages\\python312\\site-packages (from uvicorn[standard]>=0.12.0; extra == \"standard\"->fastapi[standard]) (0.6.4)\n",
      "Requirement already satisfied: python-dotenv>=0.13 in c:\\users\\ferca\\appdata\\local\\packages\\pythonsoftwarefoundation.python.3.12_qbz5n2kfra8p0\\localcache\\local-packages\\python312\\site-packages (from uvicorn[standard]>=0.12.0; extra == \"standard\"->fastapi[standard]) (1.0.1)\n",
      "Requirement already satisfied: pyyaml>=5.1 in c:\\users\\ferca\\appdata\\local\\packages\\pythonsoftwarefoundation.python.3.12_qbz5n2kfra8p0\\localcache\\local-packages\\python312\\site-packages (from uvicorn[standard]>=0.12.0; extra == \"standard\"->fastapi[standard]) (6.0.2)\n",
      "Requirement already satisfied: watchfiles>=0.13 in c:\\users\\ferca\\appdata\\local\\packages\\pythonsoftwarefoundation.python.3.12_qbz5n2kfra8p0\\localcache\\local-packages\\python312\\site-packages (from uvicorn[standard]>=0.12.0; extra == \"standard\"->fastapi[standard]) (1.0.4)\n",
      "Requirement already satisfied: websockets>=10.4 in c:\\users\\ferca\\appdata\\local\\packages\\pythonsoftwarefoundation.python.3.12_qbz5n2kfra8p0\\localcache\\local-packages\\python312\\site-packages (from uvicorn[standard]>=0.12.0; extra == \"standard\"->fastapi[standard]) (12.0)\n",
      "Requirement already satisfied: rich>=13.7.1 in c:\\users\\ferca\\appdata\\local\\packages\\pythonsoftwarefoundation.python.3.12_qbz5n2kfra8p0\\localcache\\local-packages\\python312\\site-packages (from rich-toolkit>=0.11.1->fastapi-cli>=0.0.5->fastapi-cli[standard]>=0.0.5; extra == \"standard\"->fastapi[standard]) (13.9.4)\n",
      "Requirement already satisfied: shellingham>=1.3.0 in c:\\users\\ferca\\appdata\\local\\packages\\pythonsoftwarefoundation.python.3.12_qbz5n2kfra8p0\\localcache\\local-packages\\python312\\site-packages (from typer>=0.12.3->fastapi-cli>=0.0.5->fastapi-cli[standard]>=0.0.5; extra == \"standard\"->fastapi[standard]) (1.5.4)\n",
      "Requirement already satisfied: markdown-it-py>=2.2.0 in c:\\users\\ferca\\appdata\\local\\packages\\pythonsoftwarefoundation.python.3.12_qbz5n2kfra8p0\\localcache\\local-packages\\python312\\site-packages (from rich>=13.7.1->rich-toolkit>=0.11.1->fastapi-cli>=0.0.5->fastapi-cli[standard]>=0.0.5; extra == \"standard\"->fastapi[standard]) (3.0.0)\n",
      "Requirement already satisfied: pygments<3.0.0,>=2.13.0 in c:\\users\\ferca\\appdata\\local\\packages\\pythonsoftwarefoundation.python.3.12_qbz5n2kfra8p0\\localcache\\local-packages\\python312\\site-packages (from rich>=13.7.1->rich-toolkit>=0.11.1->fastapi-cli>=0.0.5->fastapi-cli[standard]>=0.0.5; extra == \"standard\"->fastapi[standard]) (2.18.0)\n",
      "Requirement already satisfied: mdurl~=0.1 in c:\\users\\ferca\\appdata\\local\\packages\\pythonsoftwarefoundation.python.3.12_qbz5n2kfra8p0\\localcache\\local-packages\\python312\\site-packages (from markdown-it-py>=2.2.0->rich>=13.7.1->rich-toolkit>=0.11.1->fastapi-cli>=0.0.5->fastapi-cli[standard]>=0.0.5; extra == \"standard\"->fastapi[standard]) (0.1.2)\n",
      "Note: you may need to restart the kernel to use updated packages.\n"
     ]
    }
   ],
   "source": [
    "%pip install \"fastapi[standard]\""
   ]
  },
  {
   "cell_type": "code",
   "execution_count": 3,
   "metadata": {},
   "outputs": [],
   "source": [
    "from datetime import datetime\n",
    "from typing import Optional\n",
    "from uuid import uuid4\n",
    "\n",
    "from fastapi import FastAPI\n",
    "from fastapi.responses import JSONResponse\n",
    "from fastapi.testclient import TestClient\n",
    "from pydantic import BaseModel, EmailStr, Field, field_serializer, UUID4\n",
    "\n",
    "app = FastAPI()"
   ]
  },
  {
   "cell_type": "markdown",
   "metadata": {},
   "source": [
    "Classe de usuários, desenvolvida na aula."
   ]
  },
  {
   "cell_type": "code",
   "execution_count": 4,
   "metadata": {},
   "outputs": [],
   "source": [
    "class User(BaseModel):\n",
    "    model_config = {\n",
    "        'extra': 'forbid',\n",
    "    }\n",
    "    __users__ = []\n",
    "    __tasks__ = [] #lista de tarefas do usuario\n",
    "    \n",
    "    name: str = Field(..., description='Nome do usuário')\n",
    "    email: EmailStr = Field(..., description='Email do usuário')\n",
    "    tasks: list[UUID4] = Field(default_factory=list, description=\"IDs das tarefas do usuário\")\n",
    "    friends: list[UUID4] = Field(\n",
    "        default_factory=list, max_items=500, description='Lista de amigos'\n",
    "    )\n",
    "    blocked: list[UUID4] = Field(\n",
    "        default_factory=list, max_items=500, description='Lista de usuários bloqueados'\n",
    "    )\n",
    "    signup_ts: Optional[datetime] = Field(\n",
    "        default_factory=datetime.now, description= 'Horário de cadastro', kw_only=True\n",
    "    )\n",
    "    id: UUID4 = Field(\n",
    "        default_factory=uuid4, description='Identificador único', kw_only=True\n",
    "    )\n",
    "\n",
    "    @field_serializer('id', when_used='json')\n",
    "    def serialize_id(self, id: UUID4) -> str:\n",
    "        return str(id)\n",
    "\n",
    "    def add_task(self, task_id: UUID4):\n",
    "        if not hasattr(self, \"tasks\"):\n",
    "            self.tasks = []\n",
    "        self.tasks.append(task_id)"
   ]
  },
  {
   "cell_type": "markdown",
   "metadata": {},
   "source": [
    "Classe de Tasks, criação do objeto Task, cujos atributos são Título, descrição, ID user, ID task, data de criação, status. Há mais features que podem ser adicionadas a classe para que ela fique mais completa e útil, como data limite de completude, capacidade de adicionar links ou arquivos como recursos para realização da tarefa."
   ]
  },
  {
   "cell_type": "code",
   "execution_count": 5,
   "metadata": {},
   "outputs": [],
   "source": [
    "class Task(BaseModel):\n",
    "    model_config = {\n",
    "        'extra': 'forbid',\n",
    "    }\n",
    "    __tasks__ = []\n",
    "    \n",
    "    user_id : UUID4\n",
    "    title: str = Field(..., min_length=3, description= 'Título da tarefa')\n",
    "    task_desc: Optional[str] = None\n",
    "    completed: bool = Field(default=False, description= 'Estado de completude da tarefa')\n",
    "    created_at: datetime = Field(default_factory=datetime.now, description= 'Horário de cadastro', kw_only=True)\n",
    "    id: UUID4 = Field(\n",
    "        default_factory=uuid4, description='Identificador único', kw_only=True\n",
    "    )\n",
    "    @field_serializer('id', when_used='json')\n",
    "    def serialize_id(self, id: UUID4) -> str:\n",
    "        return str(id)"
   ]
  },
  {
   "cell_type": "code",
   "execution_count": 6,
   "metadata": {},
   "outputs": [],
   "source": [
    "@app.get('/users', response_model=list[User])\n",
    "async def get_users() -> list[User]:\n",
    "    return list(User.__users__)\n",
    "\n",
    "@app.post('/users', response_model=User)\n",
    "async def create_user(user: User):\n",
    "    User.__users__.append(user)\n",
    "    return user\n",
    "\n",
    "@app.get('/users/{user_id}', response_model=User)\n",
    "async def get_user(user_id: UUID4) -> User | JSONResponse:\n",
    "    try:\n",
    "        return next((user for user in User.__users__ if user.id == user_id))\n",
    "    except StopIteration:\n",
    "        return JSONResponse(status_code=404, content={'message': 'Usuário não encontrado'})"
   ]
  },
  {
   "cell_type": "markdown",
   "metadata": {},
   "source": [
    "CRUD da API de tasks, aqui utilizamos alguns métodos do protocolo HTTPS, como o POST, GET, o PUT e o DELETE. Também são feitas as validações das respostas das requisições da API."
   ]
  },
  {
   "cell_type": "code",
   "execution_count": 7,
   "metadata": {},
   "outputs": [],
   "source": [
    "@app.post('/tasks', response_model=Task)\n",
    "async def create_task(task: Task):\n",
    "    try:\n",
    "        user = next((user for user in User.__users__ if user.id == task.user_id), None)\n",
    "        User.__tasks__.append(task)\n",
    "        user.tasks.append(task.id)\n",
    "        return task\n",
    "    except StopIteration:\n",
    "        return JSONResponse(status_code=404, content={'message': 'Task só pode ser associada a um usuário cadastrado.'})\n",
    "    \n",
    "\n",
    "@app.get('/users/{user_id}/tasks', response_model=list[Task])\n",
    "async def get_user_tasks(user_id: UUID4):\n",
    "    user_tasks = [task for task in User.__tasks__ if task.user_id == user_id]\n",
    "    return user_tasks\n",
    "\n",
    "@app.get(\"/tasks/{task_id}\", response_model=Task)\n",
    "async def get_task(task_id: UUID4 | None) -> Task | JSONResponse:\n",
    "    task = next((task for task in User.__tasks__ if task.id == task_id), None)\n",
    "    if task is None:\n",
    "        return JSONResponse(status_code=404, content={'message': 'Tarefa não encontrada.'})\n",
    "    return task\n",
    "\n",
    "@app.put(\"/tasks/{task_id}\", response_model=Task)\n",
    "async def update_task(task_id: UUID4):\n",
    "    try:\n",
    "        task = next((task for task in User.__tasks__ if task.id == task_id), None)\n",
    "        task.completed = True\n",
    "        return task\n",
    "    except StopIteration:\n",
    "        return JSONResponse(status_code=404, content={'message': 'Tarefa não encontrada.'})\n",
    "    \n",
    "\n",
    "@app.delete(\"/tasks/{task_id}\")\n",
    "async def delete_task(task_id: UUID4):\n",
    "    try:\n",
    "        task = next((task for task in User.__tasks__ if task.id == task_id), None)\n",
    "        if not task:\n",
    "            return JSONResponse(status_code=404, content={'message': 'Tarefa não encontrada.'})\n",
    "    \n",
    "        User.__tasks__.remove(task)\n",
    "    except StopIteration:\n",
    "        return JSONResponse(status_code=404, content={'message': 'Tarefa não encontrada.'})\n",
    "\n",
    "    # Remover da lista de tarefas do usuário\n",
    "    try:\n",
    "        user = next((user for user in User.__users__ if user.id == task.user_id), None)\n",
    "        if user:\n",
    "            user.tasks.remove(task.id)\n",
    "\n",
    "        return JSONResponse(status_code=200, content={\"message\": \"Tarefa removida com sucesso\"})  # ✅ Always return a response\n",
    "    except StopIteration:\n",
    "        return JSONResponse(status_code=404, content={'message': 'Usuário não encontrado.'})\n",
    "    \n",
    "    "
   ]
  },
  {
   "cell_type": "markdown",
   "metadata": {},
   "source": [
    "Neste método main, o principal foco é testar as funções da nova API, já que a outra API utilizada já foi testada e validada. Podemos ver o erro final retornado quando se tenta buscar por uma task que foi deletada com sucesso. O atributo de Descrição não foi trabalhado aqui, para simplificar o trabalho e testar apenas os conceitos aprendidos."
   ]
  },
  {
   "cell_type": "code",
   "execution_count": null,
   "metadata": {},
   "outputs": [
    {
     "name": "stdout",
     "output_type": "stream",
     "text": [
      "dc9e6f16-2e49-4084-ae62-6955c2fbe76c\n"
     ]
    }
   ],
   "source": [
    "def main() -> None:\n",
    "     with TestClient(app) as client:\n",
    "        # Criando um usuário\n",
    "        response = client.post(\"/users\", json={\"name\": \"User\", \"email\": \"user@dominio.com\"})\n",
    "        assert response.status_code == 200\n",
    "        user_id = response.json()[\"id\"]\n",
    "\n",
    "        # Criando uma tarefa para o usuário\n",
    "        response = client.post(\"/tasks\", json={\"user_id\": user_id, \"title\": \"Estudar Python\"})\n",
    "        assert response.status_code == 200\n",
    "        task_id = response.json()[\"id\"]\n",
    "\n",
    "        # Verificando se a tarefa aparece na lista do usuário\n",
    "        response = client.get(f\"/users/{user_id}/tasks\")\n",
    "        assert response.status_code == 200\n",
    "        assert len(response.json()) == 1\n",
    "        assert response.json()[0][\"title\"] == \"Estudar Python\"\n",
    "\n",
    "        # Atualizando a tarefa (marcando como concluída)\n",
    "        response = client.put(f\"/tasks/{task_id}\")\n",
    "        assert response.status_code == 200\n",
    "        assert response.json()[\"completed\"] == True\n",
    "\n",
    "        # Deletando a tarefa\n",
    "        response = client.delete(f\"/tasks/{task_id}\")\n",
    "        assert response.status_code == 200\n",
    "\n",
    "        # Verificando se a tarefa foi removida corretamente\n",
    "        response = client.get(f\"/tasks/{task_id}\")\n",
    "        assert response.status_code == 404\n",
    "        assert response.json()['message'] == 'Tarefa não encontrada.', (\n",
    "            'Não deveria ser possível encontrar essa tarefa'\n",
    "        )\n",
    "\n",
    "if __name__ == '__main__':\n",
    "    main()"
   ]
  }
 ],
 "metadata": {
  "kernelspec": {
   "display_name": "Python 3",
   "language": "python",
   "name": "python3"
  },
  "language_info": {
   "codemirror_mode": {
    "name": "ipython",
    "version": 3
   },
   "file_extension": ".py",
   "mimetype": "text/x-python",
   "name": "python",
   "nbconvert_exporter": "python",
   "pygments_lexer": "ipython3",
   "version": "3.12.9"
  }
 },
 "nbformat": 4,
 "nbformat_minor": 2
}
